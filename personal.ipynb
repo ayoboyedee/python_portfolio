{
 "cells": [
  {
   "cell_type": "code",
   "execution_count": 11,
   "id": "a38e1138",
   "metadata": {},
   "outputs": [],
   "source": [
    "#Lists"
   ]
  },
  {
   "cell_type": "code",
   "execution_count": 1,
   "id": "4c8289c4",
   "metadata": {},
   "outputs": [],
   "source": [
    "myList = [1, 2, 3, 4, 5, 'Hello']"
   ]
  },
  {
   "cell_type": "code",
   "execution_count": 2,
   "id": "1c8b353a",
   "metadata": {},
   "outputs": [
    {
     "data": {
      "text/plain": [
       "[1, 2, 3, 4, 5, 'Hello']"
      ]
     },
     "execution_count": 2,
     "metadata": {},
     "output_type": "execute_result"
    }
   ],
   "source": [
    "myList"
   ]
  },
  {
   "cell_type": "code",
   "execution_count": 3,
   "id": "f0003eb7",
   "metadata": {},
   "outputs": [],
   "source": [
    "del myList[2]"
   ]
  },
  {
   "cell_type": "code",
   "execution_count": 4,
   "id": "c9768ae5",
   "metadata": {},
   "outputs": [
    {
     "data": {
      "text/plain": [
       "[1, 2, 4, 5, 'Hello']"
      ]
     },
     "execution_count": 4,
     "metadata": {},
     "output_type": "execute_result"
    }
   ],
   "source": [
    "myList"
   ]
  },
  {
   "cell_type": "code",
   "execution_count": 5,
   "id": "0f663311",
   "metadata": {},
   "outputs": [
    {
     "name": "stdout",
     "output_type": "stream",
     "text": [
      "5\n"
     ]
    }
   ],
   "source": [
    "print(myList[3])"
   ]
  },
  {
   "cell_type": "code",
   "execution_count": 6,
   "id": "0c4d644c",
   "metadata": {},
   "outputs": [
    {
     "data": {
      "text/plain": [
       "[4, 5]"
      ]
     },
     "execution_count": 6,
     "metadata": {},
     "output_type": "execute_result"
    }
   ],
   "source": [
    "myList[2:4]"
   ]
  },
  {
   "cell_type": "code",
   "execution_count": 9,
   "id": "01575459",
   "metadata": {},
   "outputs": [],
   "source": [
    "myList.append('Good morning')"
   ]
  },
  {
   "cell_type": "code",
   "execution_count": 10,
   "id": "5d5cc4a0",
   "metadata": {},
   "outputs": [
    {
     "data": {
      "text/plain": [
       "[1, 2, 4, 5, 'Hello', 'Good morning']"
      ]
     },
     "execution_count": 10,
     "metadata": {},
     "output_type": "execute_result"
    }
   ],
   "source": [
    "myList"
   ]
  },
  {
   "cell_type": "code",
   "execution_count": 12,
   "id": "8d3106ea",
   "metadata": {},
   "outputs": [],
   "source": [
    "#Tuples"
   ]
  },
  {
   "cell_type": "code",
   "execution_count": 13,
   "id": "3ada6714",
   "metadata": {},
   "outputs": [],
   "source": [
    "daysOfWeek = ('Monday', 'Tuesday', 'Wednesday', 'Thursday', 'Friday', 'Saturday', 'Sunday')"
   ]
  },
  {
   "cell_type": "code",
   "execution_count": 14,
   "id": "87e93661",
   "metadata": {},
   "outputs": [
    {
     "data": {
      "text/plain": [
       "'Thursday'"
      ]
     },
     "execution_count": 14,
     "metadata": {},
     "output_type": "execute_result"
    }
   ],
   "source": [
    "daysOfWeek[3]"
   ]
  },
  {
   "cell_type": "code",
   "execution_count": null,
   "id": "eb5dab7a",
   "metadata": {},
   "outputs": [],
   "source": [
    "# HTML is the building block of a website(structure)\n",
    "# HTML - HyperText Markup Language\n",
    "# CSS deals with appearance(beautification & aesthetics)\n",
    "# CSS - Cascading Syle Sheet\n",
    "# JS is a programming language(unlike HTML and CSS)\n",
    "# JS adds functionality, makes the website dynamic and more interactive, adds advanced animation\n",
    "# A website with just HTMl and CSS is a static page\n",
    "# IDE - INtegrated Development Environment\n",
    "# \n"
   ]
  }
 ],
 "metadata": {
  "kernelspec": {
   "display_name": "base",
   "language": "python",
   "name": "python3"
  },
  "language_info": {
   "codemirror_mode": {
    "name": "ipython",
    "version": 3
   },
   "file_extension": ".py",
   "mimetype": "text/x-python",
   "name": "python",
   "nbconvert_exporter": "python",
   "pygments_lexer": "ipython3",
   "version": "3.12.7"
  }
 },
 "nbformat": 4,
 "nbformat_minor": 5
}
